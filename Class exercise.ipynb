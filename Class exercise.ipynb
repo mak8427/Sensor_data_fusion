{
 "cells": [
  {
   "metadata": {},
   "cell_type": "markdown",
   "source": [
    "We have RNG simultaneously different dice: 4side 6 side 8 sided 10 sided 20 side. we dont know which dice is which and we don't have prior knowledge.\n",
    "\n",
    "a)Define the set of classes and  features \n",
    "class = {4,6,8,10,20}\n",
    "feautures = {1,2,3,4,5,6,7,8,9,10,11,12,13,14,15,16,17,18,19,20}\n",
    "\n",
    "\n",
    "\n"
   ],
   "id": "b4f6bde97185e55a"
  },
  {
   "metadata": {},
   "cell_type": "markdown",
   "source": "b) determine the corrisponding likelihoods function for each class",
   "id": "bb8a89749cac4d"
  },
  {
   "metadata": {
    "ExecuteTime": {
     "end_time": "2024-07-09T11:03:12.044457Z",
     "start_time": "2024-07-09T11:03:11.852823Z"
    }
   },
   "cell_type": "code",
   "source": [
    "import numpy as np\n",
    "import matplotlib.pyplot as plt\n",
    "\n",
    "dices = [4,6,8,10,20]\n",
    "def likelihoods(dice):\n",
    "    a= np.array([1/dice for i in range(dice)])\n",
    "    if len(a)<20:\n",
    "        a = np.append(a,[0]*(20-len(a)))\n",
    "    return a\n",
    "cumulative_distribution = list(range(1,21))\n",
    "for dice in dices:\n",
    "    plt.plot(cumulative_distribution,likelihoods(dice),label=f'dice{dice}')\n",
    "\n",
    "\n",
    "\n"
   ],
   "id": "d2e03bf6dec2a733",
   "outputs": [
    {
     "data": {
      "text/plain": [
       "<Figure size 640x480 with 1 Axes>"
      ],
      "image/png": "[encoded data removed]"
     },
     "metadata": {},
     "output_type": "display_data"
    }
   ],
   "execution_count": 6
  },
  {
   "metadata": {},
   "cell_type": "markdown",
   "source": [
    "Sensor detecting traffic patecipants x = {B, M , C}\n",
    "\n",
    "a) sensor 1 a: B bycicl or M motorbike  80% probability of correct detection\n",
    "\n",
    "   sensor 2: M motorbike or C car 40% probability of correct detection\n",
    "   \n",
    "   Basic belief assignement for sensor 1 and sensor 2\n",
    "   \n",
    "\n",
    "b) fuse sensor data using Dempster-Shafer rule of combination\n",
    "\n",
    "c) Using the fused bAsic belief assignement, calculate the upper and lower bounds of the probability that we see bycicle or motorbike\n",
    "\n",
    "   "
   ],
   "id": "67bc5d1bf1d20ba7"
  },
  {
   "metadata": {
    "ExecuteTime": {
     "end_time": "2024-07-09T11:21:48.700337Z",
     "start_time": "2024-07-09T11:21:48.687502Z"
    }
   },
   "cell_type": "code",
   "source": [
    "#a) \n",
    "sensor1 = {'B':0.8,'M':0.8}\n",
    "sensor2 = {'M':0.4,'C':0.4}\n",
    "#table of belief sensor 1\n",
    "# true not true x\n",
    "# Bel   0.8  0 1\n",
    "#plaus  1  0.2 1\n",
    "import pandas as pd\n",
    "#pivot\n",
    "sensor1_table = pd.DataFrame({'Belief':[0.8,0],'Plausibility':[1,0.2]},index=['True','Not True'])\n",
    "sensor1_table.T\n"
   ],
   "id": "9d154eeb307f36c4",
   "outputs": [
    {
     "data": {
      "text/plain": [
       "              True  Not True\n",
       "Belief         0.8       0.0\n",
       "Plausibility   1.0       0.2"
      ],
      "text/html": [
       "<div>\n",
       "<style scoped>\n",
       "    .dataframe tbody tr th:only-of-type {\n",
       "        vertical-align: middle;\n",
       "    }\n",
       "\n",
       "    .dataframe tbody tr th {\n",
       "        vertical-align: top;\n",
       "    }\n",
       "\n",
       "    .dataframe thead th {\n",
       "        text-align: right;\n",
       "    }\n",
       "</style>\n",
       "<table border=\"1\" class=\"dataframe\">\n",
       "  <thead>\n",
       "    <tr style=\"text-align: right;\">\n",
       "      <th></th>\n",
       "      <th>True</th>\n",
       "      <th>Not True</th>\n",
       "    </tr>\n",
       "  </thead>\n",
       "  <tbody>\n",
       "    <tr>\n",
       "      <th>Belief</th>\n",
       "      <td>0.8</td>\n",
       "      <td>0.0</td>\n",
       "    </tr>\n",
       "    <tr>\n",
       "      <th>Plausibility</th>\n",
       "      <td>1.0</td>\n",
       "      <td>0.2</td>\n",
       "    </tr>\n",
       "  </tbody>\n",
       "</table>\n",
       "</div>"
      ]
     },
     "execution_count": 10,
     "metadata": {},
     "output_type": "execute_result"
    }
   ],
   "execution_count": 10
  },
  {
   "metadata": {},
   "cell_type": "code",
   "outputs": [],
   "execution_count": null,
   "source": "",
   "id": "95d6717ded925416"
  }
 ],
 "metadata": {
  "kernelspec": {
   "display_name": "Python 3",
   "language": "python",
   "name": "python3"
  },
  "language_info": {
   "codemirror_mode": {
    "name": "ipython",
    "version": 2
   },
   "file_extension": ".py",
   "mimetype": "text/x-python",
   "name": "python",
   "nbconvert_exporter": "python",
   "pygments_lexer": "ipython2",
   "version": "2.7.6"
  }
 },
 "nbformat": 4,
 "nbformat_minor": 5
}
