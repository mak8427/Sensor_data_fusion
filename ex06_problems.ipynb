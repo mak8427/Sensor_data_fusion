{
 "cells": [
  {
   "cell_type": "markdown",
   "metadata": {},
   "source": [
    "# Sensor Data Fusion\n",
    "Lecturer: Prof. Baum \\\n",
    "Tutor: Dr. Kolja Thormann\\\n",
    "Semester: Summer 2024\n",
    "## Homework 6\n",
    "\n",
    "Assume a robot in 2D-space. Its position is modeled as a Gaussian random variable. The prior has $\\hat{\\textbf{x}}_0=\\begin{bmatrix}0 & 0\\end{bmatrix}^\\text{T}$ and\n",
    "$$\n",
    "\\textbf{C}_0=\\begin{bmatrix}1 & 0\\\\0 & 1\\end{bmatrix}\\enspace\n",
    "$$"
   ]
  },
  {
   "cell_type": "markdown",
   "metadata": {},
   "source": [
    "---\n",
    "The following tasks will have missing sections marked that you should fill out. \n",
    "\n",
    "Missing code parts are marked by\n",
    "```\n",
    "# ... code code code\n",
    "=== YOUR CODE HERE ===\n",
    "\n",
    "=== END OF YOUR CODE ===\n",
    "# ... code code code\n",
    "```\n",
    "If you are asked to implement a function, make sure to check what variable will be returned by the function and to fill it accordingly. Do not change code outside of the indicated sections.\n",
    "\n",
    "Furthermore, some questions require theoretical answers instead of python code.\n",
    "\n",
    "Such questions will have a field marked like this: \n",
    "\n",
    "=== YOUR ANSWER HERE === "
   ]
  },
  {
   "cell_type": "code",
   "execution_count": null,
   "metadata": {},
   "outputs": [],
   "source": [
    "# import statements\n",
    "import numpy as np\n",
    "import matplotlib.pyplot as plt\n",
    "import math\n",
    "from numpy.linalg import inv"
   ]
  },
  {
   "cell_type": "markdown",
   "metadata": {},
   "source": [
    "---\n",
    "### a)\n",
    "A sensor measures the robot's true position. Formulate and implement a measurement equation assuming independent zero-mean Gaussian noise with\n",
    "$$\n",
    "\\textbf{C}_{ee}=\\begin{bmatrix}0.2 & 0\\\\0 & 0.2\\end{bmatrix}\\enspace.\n",
    "$$"
   ]
  },
  {
   "cell_type": "code",
   "execution_count": null,
   "metadata": {},
   "outputs": [],
   "source": [
    "# def. of variables\n",
    "t = 1\n",
    "num_m = 5\n",
    "\n",
    "x_hat_prior = np.array([0, 0])\n",
    "x_cov_prior = np.array([[1, 0], [0, 1]])\n",
    "\n",
    "R = np.array([[0.2, 0], [0, 0.2]])"
   ]
  },
  {
   "cell_type": "code",
   "execution_count": null,
   "metadata": {},
   "outputs": [],
   "source": [
    "def measurement_model(x, R):\n",
    "    \"\"\"\n",
    "    Function that takes a measurement of x based on zero-mean Guassian noise with R according to parameters.\n",
    "    :param x: true location\n",
    "    :param R: noise\n",
    "    :return: y, the resulting measurement\n",
    "    \"\"\"\n",
    "    \n",
    "    # === YOUR CODE HERE ===\n",
    "    \n",
    "    # === END OF YOUR CODE ===\n",
    "    \n",
    "    return y"
   ]
  },
  {
   "cell_type": "markdown",
   "metadata": {},
   "source": [
    "---\n",
    "### b) \n",
    "Implement a function which samples a true position of $\\textbf{x}$ from the prior and then generates a measurement from the true position using the function from a)."
   ]
  },
  {
   "cell_type": "code",
   "execution_count": null,
   "metadata": {},
   "outputs": [],
   "source": [
    "def draw_sample(x_hat, x_cov, R):\n",
    "    \"\"\"\n",
    "    Samples a true position of x from the prior and generates a measurement from the true position\n",
    "    :param x_hat: x_hat of prior\n",
    "    :param x_cov: cov of prior\n",
    "    :param R: measurement noise parameter\n",
    "    :return: (x,y) the tuple containing the sample and the measurement\n",
    "    \"\"\"\n",
    "    \n",
    "    # === YOUR CODE HERE ===\n",
    "    \n",
    "    \n",
    "    # === END OF YOUR CODE ===\n",
    "    \n",
    "    return x, y "
   ]
  },
  {
   "cell_type": "markdown",
   "metadata": {},
   "source": [
    "---\n",
    "### c)\n",
    "Implement the Kalman update formula to calculate the posterior distribution."
   ]
  },
  {
   "cell_type": "code",
   "execution_count": null,
   "metadata": {},
   "outputs": [],
   "source": [
    "def update(x, x_cov, y, R):\n",
    "    \"\"\"\n",
    "    Function that implements the Kalman update formula.\n",
    "    :param x: current x position\n",
    "    :param x_cov: current cov. of x\n",
    "    :param y: measurement\n",
    "    :param R: measurement noise\n",
    "    :return: (x_new, x_cov_new) the new values for the position and its covariance\n",
    "    \"\"\"\n",
    "    \n",
    "    # === YOUR CODE HERE ===\n",
    "    \n",
    "    \n",
    "    # === END OF YOUR CODE ===\n",
    "    \n",
    "    return x_new, x_cov_new"
   ]
  },
  {
   "cell_type": "markdown",
   "metadata": {},
   "source": [
    "---\n",
    "### d) \n",
    "Now, assume the sensor will provide 5 measurements in a row. Use the Kalman filter update formulas to update the robot's state recursively."
   ]
  },
  {
   "cell_type": "markdown",
   "metadata": {},
   "source": [
    "Please implement a simple simulation that will draw `num_m` measurements $y$ in a row and apply the update function to each $y$.\n",
    "\n",
    "Visualize the measurements and the current `x_hat` after each step."
   ]
  },
  {
   "cell_type": "code",
   "execution_count": null,
   "metadata": {},
   "outputs": [],
   "source": [
    "# set x_hat and x_cov to the prior values\n",
    "x_hat = x_hat_prior\n",
    "x_cov = x_cov_prior\n",
    "\n",
    "# === YOUR CODE HERE ===\n",
    "\n",
    "\n",
    "# === END OF YOUR CODE ==="
   ]
  },
  {
   "cell_type": "markdown",
   "metadata": {},
   "source": [
    "---\n",
    "### e)\n",
    "Visualize the robot's covariance matrix as an ellipse and observe how it changes with each update."
   ]
  },
  {
   "cell_type": "code",
   "execution_count": null,
   "metadata": {},
   "outputs": [],
   "source": [
    "def visualize_covariance(C, m, **kwargs):\n",
    "    \"\"\"\n",
    "    Adds a visualization of a covariance matrix as an ellipse to the current matplotlib plot.\n",
    "    :param C: Covariance matrix\n",
    "    :param m: Mean\n",
    "    :param color: color to draw in (for matplotlib)\n",
    "    \"\"\"\n",
    "    # ensure everything is numpy\n",
    "    C = np.array(C)\n",
    "    m = np.array(m)\n",
    "    \n",
    "    # === YOUR CODE HERE ===\n",
    "    \n",
    "    \n",
    "    # === END OF YOUR CODE ===\n",
    "    \n",
    "    return  # no return value\n",
    "\n",
    "# test the above function with a very simple example\n",
    "fig, ax = plt.subplots()\n",
    "\n",
    "visualize_covariance([[1, 0],[0, 1]], [0, 0], color='b')\n",
    "visualize_covariance([[2, 0],[0, 0.5]], [3, 0], color='g')\n",
    "visualize_covariance([[0.5, 0],[0, 2]], [3, 0], color='r')\n",
    "\n",
    "plt.title(\"Example Cov. Matrix Visualizations\")\n",
    "plt.axis((-6, 6, -6, 6))\n",
    "\n",
    "ax.set_aspect('equal')  # ensure the resulting window is square\n",
    "\n",
    "plt.show()"
   ]
  },
  {
   "cell_type": "markdown",
   "metadata": {},
   "source": [
    "Now, combine this function with your code from above to re-create the plots, but this time with the covariance matrix visualized as an ellipse too."
   ]
  },
  {
   "cell_type": "code",
   "execution_count": null,
   "metadata": {},
   "outputs": [],
   "source": [
    "# set x_hat and x_cov to the prior values\n",
    "x_hat = x_hat_prior\n",
    "x_cov = x_cov_prior\n",
    "\n",
    "# === YOUR CODE HERE ===\n",
    "\n",
    "\n",
    "# === END OF YOUR CODE ==="
   ]
  }
 ],
 "metadata": {
  "kernelspec": {
   "display_name": "Python 3 (ipykernel)",
   "language": "python",
   "name": "python3"
  },
  "language_info": {
   "codemirror_mode": {
    "name": "ipython",
    "version": 3
   },
   "file_extension": ".py",
   "mimetype": "text/x-python",
   "name": "python",
   "nbconvert_exporter": "python",
   "pygments_lexer": "ipython3",
   "version": "3.11.7"
  }
 },
 "nbformat": 4,
 "nbformat_minor": 4
}
