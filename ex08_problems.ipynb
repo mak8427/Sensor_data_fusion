{
 "cells": [
  {
   "cell_type": "markdown",
   "metadata": {},
   "source": [
    "# Sensor Data Fusion\n",
    "Lecturer: Prof. Baum \\\n",
    "Tutor: Dr. Kolja Thormann \\\n",
    "Semester: Summer 2024\n",
    "## Homework 8\n",
    "\n",
    "Assume a robot in 2D-space at position $\\begin{bmatrix}x_1 & x_2\\end{bmatrix}^T$ moving with velocity $v_1$ in $x_1$ direction and $\\dot{x}_2$ in $\\dot{x}_2$ direction. Its state is defined as $\\textbf{x}=\\begin{bmatrix}x_1 & x_2 & \\dot{x}_1 & \\dot{x}_2\\end{bmatrix}^T$."
   ]
  },
  {
   "cell_type": "markdown",
   "metadata": {},
   "source": [
    "---\n",
    "The following tasks will have missing sections marked that you should fill out. \n",
    "\n",
    "Missing code parts are marked by\n",
    "```\n",
    "# ... code code code\n",
    "=== YOUR CODE HERE ===\n",
    "\n",
    "=== END OF YOUR CODE ===\n",
    "# ... code code code\n",
    "```\n",
    "If you are asked to implement a function, make sure to check what variable will be returned by the function and to fill it accordingly. Do not change code outside of the indicated sections.\n",
    "\n",
    "Furthermore, some questions require theoretical answers instead of python code.\n",
    "\n",
    "Such questions will have a field marked like this: \n",
    "\n",
    "=== YOUR ANSWER HERE === "
   ]
  },
  {
   "cell_type": "code",
   "execution_count": null,
   "metadata": {
    "ExecuteTime": {
     "end_time": "2024-06-15T13:34:19.570113Z",
     "start_time": "2024-06-15T13:34:19.549583500Z"
    }
   },
   "outputs": [],
   "source": [
    "# import statements\n",
    "import numpy as np\n",
    "import matplotlib.pyplot as plt\n",
    "import matplotlib.lines as mlines\n",
    "import math\n",
    "from numpy.linalg import inv, norm"
   ]
  },
  {
   "cell_type": "code",
   "execution_count": null,
   "metadata": {
    "ExecuteTime": {
     "start_time": "2024-06-15T13:34:19.552112800Z"
    }
   },
   "outputs": [],
   "source": [
    "# variable definitions\n",
    "\n",
    "t = 1  # length of a time step\n",
    "steps = 10  # number of steps to run simulation for\n",
    "x_init = np.array([0, 0, 2, 2])  # inital mean for x\n",
    "\n",
    "# acceleration noise matrix\n",
    "Q = np.eye(4)*0.01\n",
    "\n",
    "# measurement noise matrix\n",
    "R = np.array([\n",
    "    [0.2, 0],\n",
    "    [0, 0.2]\n",
    "])\n",
    "\n",
    "# inital covariance for x\n",
    "# x_cov (=C_init) is just np.eye, but incase you want to try different values, change them here:\n",
    "x_cov = np.array([\n",
    "    [1, 0, 0, 0],\n",
    "    [0, 1, 0, 0],\n",
    "    [0, 0, 1, 0],\n",
    "    [0, 0, 0, 1]\n",
    "])"
   ]
  },
  {
   "cell_type": "markdown",
   "metadata": {},
   "source": [
    "---\n",
    "### a)\n",
    "\n",
    "Formulate a motion model for the robot, assuming independent zero-mean Gaussian noise on each state element with covariance matrix $\\textbf{Q}=0.1\\textbf{I}_4$. Write a function implementing the model.\n",
    "\n",
    "In general, the motion model will look like this:\n",
    "\n",
    "$$\n",
    "\\textbf{x}_{k+1}=\\textbf{F}\\textbf{x}_k+w_k\\text{, with }w_k\\sim\\mathcal{N}(0, \\textbf{Q})\n",
    "$$\n"
   ]
  },
  {
   "cell_type": "code",
   "execution_count": null,
   "metadata": {
    "ExecuteTime": {
     "start_time": "2024-06-15T13:34:19.555113Z"
    }
   },
   "outputs": [],
   "source": [
    "# define F\n",
    "\n",
    "# === YOUR CODE HERE ===\n",
    "F = np.array([\n",
    "    [1, 0, t, 0],\n",
    "    [0, 1, 0, t],\n",
    "    [0, 0, 1, 0],\n",
    "    [0, 0, 0, 1],\n",
    "])\n",
    "\n",
    "# === END OF YOUR CODE ===\n",
    "\n",
    "F = np.array(F)\n",
    "# make sure F is of the correct shape\n",
    "assert F.shape ==  (4,4)"
   ]
  },
  {
   "cell_type": "markdown",
   "metadata": {},
   "source": [
    "Next, you need to implement the motion model.\n",
    "\n",
    "Hint: for multivariate normal distributions, numpy provides `np.random.multivariate_normal`"
   ]
  },
  {
   "cell_type": "code",
   "execution_count": 6,
   "metadata": {
    "ExecuteTime": {
     "end_time": "2024-06-15T13:36:02.991958900Z",
     "start_time": "2024-06-15T13:36:02.895613400Z"
    }
   },
   "outputs": [
    {
     "name": "stdout",
     "output_type": "stream",
     "text": [
      "[11.16127821 11.97500462  0.87106817  1.99943337]\n"
     ]
    }
   ],
   "source": [
    "def motion_model(x, Q, F):\n",
    "    \"\"\"\n",
    "    Function that implements the motion model.\n",
    "    :param x: current state\n",
    "    :param Q: process noise covariance\n",
    "    :param F: state transition matrix\n",
    "    :return: x_new, the new state\n",
    "    \"\"\"\n",
    "    x = np.array(x)\n",
    "    \n",
    "    # === YOUR CODE HERE ===\n",
    "    w = np.random.multivariate_normal([0, 0, 0, 0], Q)\n",
    "    x_new = F @ x + w\n",
    "    \n",
    "    # === END OF YOUR CODE ===\n",
    "    \n",
    "    return x_new\n",
    "\n",
    "\n",
    "# Test the function:\n",
    "x_test = [10, 10, 1, 2]  \n",
    "print(motion_model(x_test, Q, F))"
   ]
  },
  {
   "cell_type": "markdown",
   "metadata": {},
   "source": [
    "---\n",
    "### b)\n",
    "In each time step, a sensor measures the robot's position. Formulate a measurement equation under independent zero-mean Gaussian noise with covariance $\\textbf{R}=\\begin{bmatrix}0.2 & 0\\\\0 & 0.2\\end{bmatrix}$ and implement it as well.\n",
    "\n",
    "In general, the measuremen equation will look like this:\n",
    "$$\n",
    "y=\\textbf{H}\\textbf{x}_k + v_k\\text{, with }v_k\\sim\\mathcal{N}(0, \\textbf{R})\n",
    "$$\n",
    "\n"
   ]
  },
  {
   "cell_type": "markdown",
   "metadata": {},
   "source": [
    "You will now need to define the measuremement matrix $\\textbf{H}$."
   ]
  },
  {
   "cell_type": "code",
   "execution_count": 8,
   "metadata": {
    "ExecuteTime": {
     "end_time": "2024-06-15T13:37:32.912886700Z",
     "start_time": "2024-06-15T13:37:32.890992800Z"
    }
   },
   "outputs": [],
   "source": [
    "# define H\n",
    "\n",
    "# === YOUR CODE HERE ===\n",
    "\n",
    "H = [[1, 0, 0, 0], [0, 1, 0, 0]]\n",
    "\n",
    "# === END OF YOUR CODE ===\n",
    "\n",
    "H = np.array(H)\n",
    "# make sure F is of the correct shape\n",
    "assert H.shape ==  (2,4)"
   ]
  },
  {
   "cell_type": "code",
   "execution_count": 9,
   "metadata": {
    "ExecuteTime": {
     "end_time": "2024-06-15T13:37:33.283Z",
     "start_time": "2024-06-15T13:37:33.222355500Z"
    }
   },
   "outputs": [
    {
     "name": "stdout",
     "output_type": "stream",
     "text": [
      "[10.05380347 10.16705754]\n"
     ]
    }
   ],
   "source": [
    "def measurement_model_linear(x, R, H):\n",
    "    \"\"\"\n",
    "    Function that implements the measurement model.\n",
    "    :param x: current state\n",
    "    :param R: measurement noise matrix\n",
    "    :param H: measurement matrix\n",
    "    :return: y, the measurement\n",
    "    \"\"\"\n",
    "    R = np.array(R)\n",
    "    \n",
    "    # === YOUR CODE HERE ===\n",
    "    v = np.random.multivariate_normal([0, 0], R)\n",
    "    y = H @ x + v\n",
    "    \n",
    "    # === END OF YOUR CODE ===\n",
    "    \n",
    "    return y\n",
    "\n",
    "# Test the function:\n",
    "x_test = [10, 10, 1, 2] \n",
    "print(measurement_model_linear(x_test, R, H))"
   ]
  },
  {
   "cell_type": "markdown",
   "metadata": {},
   "source": [
    "---\n",
    "### c)\n",
    "Use the functions from a) and b) to implement a simulation using initial state $\\hat{\\textbf{x}}_{\\text{init}}=\\begin{bmatrix}0\\text{m} & 0\\text{m} & 2\\text{ms}^{-1} & 2 \\text{ms}^{-1}\\end{bmatrix}$, 10 time steps of length 1s, and covariances for the initial state\n",
    "$$\n",
    "\\textbf{C}_{\\text{init}}=\\begin{bmatrix}1 & 0 & 0 & 0\\\\0 & 1 & 0 & 0\\\\0 & 0 & 1 & 0\\\\0 & 0 & 0 & 1\\end{bmatrix}\\enspace.\n",
    "$$\n",
    "\n",
    "For each run, draw the true state from the prior, i.e. using $\\hat{\\textbf{x}}_{\\text{init}}$ and $\\textbf{C}_{\\text{init}}$!"
   ]
  },
  {
   "cell_type": "code",
   "execution_count": 13,
   "metadata": {
    "ExecuteTime": {
     "end_time": "2024-06-15T13:44:26.571431500Z",
     "start_time": "2024-06-15T13:44:26.547096700Z"
    }
   },
   "outputs": [],
   "source": [
    "def simulation(x_init, x_init_cov, Q, R, F, steps, measurement_model, H=None):\n",
    "    \"\"\"\n",
    "    :param x_init: Initial state\n",
    "    :param x_init_cov: Initial state covariance matrix\n",
    "    :param Q: process noise covariance\n",
    "    :param R: Measurement noise matrix\n",
    "    :param F: state transition matrix\n",
    "    :param steps: Number of steps to run the simulation for\n",
    "    :param measurement_model: Function that takes (x,R,P) and returns a measurement for it\n",
    "    :param H: measurement matrix (optional parameter, if needed by update function)\n",
    "    :return: (track, ms) with track being the ground truth track, and ms the measurements produced in the simulation.\n",
    "    \"\"\"\n",
    "    x_dim = len(x_init)\n",
    "    \n",
    "    # === YOUR CODE HERE ===\n",
    "    \n",
    "    track = np.zeros((steps, x_dim))\n",
    "    ms = np.zeros((steps-1, R.shape[0]))\n",
    "    for i in range(steps):\n",
    "        if i == 0:\n",
    "            track[i, :] = x_init\n",
    "        else:\n",
    "            track[i, :] = motion_model(track[i-1, :], Q, F)\n",
    "            ms[i-1, :] = measurement_model(track[i, :], R, H)\n",
    "    \n",
    "    # === END OF YOUR CODE ===\n",
    "    \n",
    "    # track should have \"steps\" many entries of states of correct dimension\n",
    "    assert track.shape == (steps, x_dim)  \n",
    "    \n",
    "    # one less measurement (no measurement for the initial state) and measurements are of dim len(R)\n",
    "    assert ms.shape == (steps-1, R.shape[0])  \n",
    "    \n",
    "    return track, ms\n",
    "\n",
    "# simulate track and measurements based on the values defined above\n",
    "gt, ms = simulation(x_init, x_cov, Q, R, F, steps, measurement_model_linear, H)"
   ]
  },
  {
   "cell_type": "code",
   "execution_count": 14,
   "metadata": {
    "ExecuteTime": {
     "end_time": "2024-06-15T13:44:27.549696500Z",
     "start_time": "2024-06-15T13:44:26.893695700Z"
    }
   },
   "outputs": [
    {
     "data": {
      "text/plain": "<Figure size 1000x1000 with 1 Axes>",
      "image/png": "[encoded data removed]"
     },
     "metadata": {},
     "output_type": "display_data"
    }
   ],
   "source": [
    "# Visualize the results of the simulation:\n",
    "fig, ax = plt.subplots(figsize=(10, 10))\n",
    "ax.plot(gt[:, 0], gt[:, 1], c=\"b\", label=\"Ground Truth\", markersize=7, marker=\"o\")\n",
    "ax.plot(ms[:, 0], ms[:, 1], c=\"r\", label=\"Measurements\", markersize=7, marker=\"+\")\n",
    "\n",
    "ax.axis(\"equal\")\n",
    "plt.title(\"Track and measurements\")\n",
    "plt.legend(bbox_to_anchor=(1.05, 1), loc='upper left')\n",
    "plt.xlabel(\"$x_1$\")\n",
    "plt.ylabel(\"$x_2$\")\n",
    "plt.show()"
   ]
  },
  {
   "cell_type": "markdown",
   "metadata": {},
   "source": [
    "---\n",
    "### d)\n",
    "Now based on a) and b), implement a predict and an update function for a Kalman filter. Use the Kalman filter to track the robot simulated with your function from c)."
   ]
  },
  {
   "cell_type": "markdown",
   "metadata": {},
   "source": [
    "Note for the solution:\n",
    "    \n",
    "$\n",
    "\\textbf{x}_{k+1|k}=\\textbf{F}\\textbf{x}_{k|k}\n",
    "$\\\n",
    "$\n",
    "\\textbf{C}_{k+1|k}=\\textbf{F}\\textbf{C}_{k|k}\\textbf{F}^T + \\textbf{Q}\n",
    "$\\\n",
    "$\n",
    "\\textbf{x}_{k+1|k+1}=\\textbf{x}_{k+1|k} + \\underbrace{\\textbf{C}_{k+1|k}\\textbf{H}^T(\\overbrace{\\textbf{H}\\textbf{C}_{k+1|k}\\textbf{H}^T + \\textbf{R}}^{\\textbf{S}})^{-1}}_{\\textbf{K}}(y-\\textbf{H}\\textbf{x}_{k+1|k})\n",
    "$\\\n",
    "$\n",
    "\\textbf{C}_{k+1|k+1}=\\textbf{C}_{k+1|k} - \\textbf{K}\\textbf{S}\\textbf{K}^T\n",
    "$"
   ]
  },
  {
   "cell_type": "code",
   "execution_count": 20,
   "metadata": {
    "ExecuteTime": {
     "end_time": "2024-06-15T13:47:50.196975400Z",
     "start_time": "2024-06-15T13:47:50.163244900Z"
    }
   },
   "outputs": [],
   "source": [
    "def predict(x, x_cov, Q, F):\n",
    "    \"\"\"\n",
    "    Function that implements the predict step of a Kalman Filter.\n",
    "    :param x: Current state\n",
    "    :param x_cov: Current state covariance matrix\n",
    "    :param Q: process noise covariance\n",
    "    :param F: state transition matrix\n",
    "    :return: (x_new, x_cov_new) The resulting state and covariance matrix after the predict step\n",
    "    \"\"\"\n",
    "    \n",
    "    # === YOUR CODE HERE ===\n",
    "    \n",
    "    x_new = F @ x\n",
    "    x_cov_new = F @ x_cov @ F.T + Q\n",
    "    \n",
    "    # === END OF YOUR CODE ===\n",
    "    \n",
    "    return x_new, x_cov_new"
   ]
  },
  {
   "cell_type": "code",
   "execution_count": 21,
   "metadata": {
    "ExecuteTime": {
     "end_time": "2024-06-15T13:47:50.371354Z",
     "start_time": "2024-06-15T13:47:50.340136Z"
    }
   },
   "outputs": [],
   "source": [
    "def update_linear(x, x_cov, m, R, H):\n",
    "    \"\"\"\n",
    "    Function that implements the update step of a Kalman Filter.\n",
    "    :param x: Current state\n",
    "    :param x_cov: Current state covariance matrix\n",
    "    :param m: Measurement\n",
    "    :param R: Measurement noise matrix\n",
    "    :param H: measurement matrix\n",
    "    :return: (x_new, x_cov_new) The resulting state and covariance matrix after the update step\n",
    "    \"\"\"\n",
    "\n",
    "    # === YOUR CODE HERE ===\n",
    "    \n",
    "    x_new  = x + x_cov @ H.T @ inv(H @ x_cov @ H.T + R) @ (m - H @ x)\n",
    "    x_cov_new = x_cov - x_cov @ H.T @ inv(H @ x_cov @ H.T + R) @ H @ x_cov\n",
    "    \n",
    "    # === END OF YOUR CODE ===\n",
    "    \n",
    "    return x_new, x_cov_new"
   ]
  },
  {
   "cell_type": "code",
   "execution_count": 22,
   "metadata": {
    "ExecuteTime": {
     "end_time": "2024-06-15T13:47:50.545297100Z",
     "start_time": "2024-06-15T13:47:50.514956800Z"
    }
   },
   "outputs": [],
   "source": [
    "def kalman_filter(x_init, x_cov, ms, Q, R, F, update, H=None):\n",
    "    \"\"\"\n",
    "    Function that runs the predict and update steps of a kalman filter.\n",
    "    :param x_init: Initial state\n",
    "    :param x_cov: Initial state covariance matrix\n",
    "    :param ms: Measurements \n",
    "    :param Q: process nosie covariance\n",
    "    :param R: Measurement noise matrix\n",
    "    :param F: state transition matrix\n",
    "    :param update: update function\n",
    "    :param H: measurement matrix (optional parameter, if needed by update function)\n",
    "    :return: track, the resulting track after applying the kalman filter\n",
    "    \"\"\"\n",
    "    # initial track\n",
    "    track = np.zeros((ms.shape[0]+1,x_init.shape[0]))\n",
    "    track[0, :] = x_init\n",
    "    \n",
    "    for i in range(1, ms.shape[0]+1):\n",
    "        track[i, :], x_cov = predict(track[i-1, :].T, x_cov, Q, F)\n",
    "        track[i, :], x_cov = update(track[i, :].T, x_cov, ms[i-1, :].T, R, H)\n",
    "    \n",
    "    return track"
   ]
  },
  {
   "cell_type": "code",
   "execution_count": 23,
   "metadata": {
    "ExecuteTime": {
     "end_time": "2024-06-15T13:47:51.363934Z",
     "start_time": "2024-06-15T13:47:51.055983500Z"
    }
   },
   "outputs": [
    {
     "data": {
      "text/plain": "<Figure size 1000x1000 with 1 Axes>",
      "image/png": "[encoded data removed]"
     },
     "metadata": {},
     "output_type": "display_data"
    }
   ],
   "source": [
    "# now, the kalman filter will be applied to the simulation:\n",
    "track = kalman_filter(x_init, x_cov, ms, Q, R, F, update_linear, H)\n",
    "\n",
    "# Visualize the results of the simulation and the kalman filter:\n",
    "fig, ax = plt.subplots(figsize=(10, 10))\n",
    "ax.plot(gt[:, 0], gt[:, 1], c=\"b\", label=\"Ground Truth\", markersize=7, marker=\"o\", alpha=0.7)\n",
    "ax.plot(ms[:, 0], ms[:, 1], c=\"r\", label=\"Measurements\", markersize=7, marker=\"x\", alpha=0.7)\n",
    "ax.plot(track[:, 0], track[:, 1], c=\"g\", label=\"Kalman Filter Track\", markersize=7, marker=\"o\", alpha=0.7)\n",
    "\n",
    "ax.axis(\"equal\")\n",
    "plt.title(\"Track and measurements\")\n",
    "plt.legend(bbox_to_anchor=(1.05, 1), loc='upper left')\n",
    "plt.xlabel(\"$x_1$\")\n",
    "plt.ylabel(\"$x_2$\")\n",
    "plt.show()"
   ]
  },
  {
   "cell_type": "markdown",
   "metadata": {},
   "source": [
    "---\n",
    "### e) \n",
    "Write a function which calculates the root mean square error (RMSE) of $n=100$ simulation runs with the error as the Euclidean norm at the last time step."
   ]
  },
  {
   "cell_type": "code",
   "execution_count": 24,
   "metadata": {
    "ExecuteTime": {
     "end_time": "2024-06-15T13:56:11.261281500Z",
     "start_time": "2024-06-15T13:56:10.815222700Z"
    }
   },
   "outputs": [
    {
     "name": "stdout",
     "output_type": "stream",
     "text": [
      "RMSE over 100 runs: 0.4730\n"
     ]
    }
   ],
   "source": [
    "n = 100\n",
    "\n",
    "def RMSE(n, steps, x_init, x_cov, Q, R, F, measurement, update, H):\n",
    "    \"\"\"\n",
    "    Function that calculates the RMSE of n simulation runs with a fixed number of steps each.\n",
    "    \n",
    "    :param n: number of simulation runs to perform\n",
    "    :param steps: number of steps to run each simulation for\n",
    "    :param x_init: Initial state for x\n",
    "    :param x_cov: Initial covariance of x\n",
    "    :param Q: process nosie covariance\n",
    "    :param R: Measurement noise matrix\n",
    "    :param F: state transition matrix\n",
    "    :param measurement: measurement function of simulation\n",
    "    :param update: update function of Kalman filter\n",
    "    :param H: measurement matrix (optional parameter, if needed by measurement/update function)\n",
    "    :return: error, the RMSE over all runs\n",
    "    \"\"\"\n",
    "    \n",
    "    # === YOUR CODE HERE ===\n",
    "    \n",
    "    error = 0\n",
    "    for i in range(n):\n",
    "        gt, ms = simulation(x_init, x_cov, Q, R, F, steps, measurement, H)\n",
    "        track = kalman_filter(x_init, x_cov, ms, Q, R, F, update, H)\n",
    "        error += norm(gt[-1] - track[-1])\n",
    "    error /= n\n",
    "    \n",
    "    \n",
    "    # === END OF YOUR CODE ===\n",
    "    \n",
    "    return error\n",
    "    \n",
    "error = RMSE(n, steps, x_init, x_cov, Q, R, F, measurement_model_linear, update_linear, H)\n",
    "print(\"RMSE over {} runs: {:.4f}\".format(n, error))"
   ]
  },
  {
   "cell_type": "markdown",
   "metadata": {},
   "source": [
    "---\n",
    "### f)\n",
    "Finally, assume a worse sensor with noise covariance\n",
    "$$\n",
    "\\textbf{R}_2=\\begin{bmatrix}2.0 & 0\\\\0 & 0.2\\end{bmatrix}\\enspace.\n",
    "$$\n",
    "Calculate the RMSE as in e). To deal with the noise, add a second sensor. Assume the measurements to be independent of each other and update the simulation and Kalman filter accordingly and observe the difference in RMSE. Now, instead of using the same type of sensor, use the sensor with $\\textbf{R}_2$ along a second sensor with noise covariance\n",
    "$$\n",
    "\\textbf{R}_3=\\begin{bmatrix}0.2 & 0\\\\0 & 2.0\\end{bmatrix}\\enspace.\n",
    "$$\n",
    "\n",
    "To this end, two variables need to be (re-)defined: $\\textbf{R}$ and $\\textbf{H}$\\\n",
    "To avoid confusion, the stacked versions of these variables will be called `R_stack` and `H_stack`."
   ]
  },
  {
   "cell_type": "code",
   "execution_count": 32,
   "metadata": {
    "ExecuteTime": {
     "end_time": "2024-06-15T14:02:14.094496100Z",
     "start_time": "2024-06-15T14:02:14.067888600Z"
    }
   },
   "outputs": [],
   "source": [
    "# Please define R_stack according to the values given in the exercise\n",
    "# === YOUR CODE HERE ===\n",
    "\n",
    "#R_stack = np.stack((np.array([[2, 0], [0, 0.2]]), np.array([[0.2, 0], [0, 0.2]])))\n",
    "R2 = np.array([\n",
    "    [2.0, 0],\n",
    "    [0, 0.2]\n",
    "])\n",
    "\n",
    "R3 = np.array([\n",
    "    [0.2, 0],\n",
    "    [0, 2.0]\n",
    "])\n",
    "\n",
    "R_stack = np.block([[R2, np.zeros_like(R2)], [np.zeros_like(R3), R3]])# stack R2 and R3\n",
    "\n",
    "# === END OF YOUR CODE ===\n",
    "\n",
    "R_stack = np.array(R_stack)\n",
    "assert R_stack.shape == (4,4)\n",
    "\n",
    "# H_stack is simply the vertically stacked version of H\n",
    "H_stack = np.vstack((H,H))"
   ]
  },
  {
   "cell_type": "code",
   "execution_count": 33,
   "metadata": {
    "ExecuteTime": {
     "end_time": "2024-06-15T14:02:14.643143100Z",
     "start_time": "2024-06-15T14:02:14.412451800Z"
    }
   },
   "outputs": [
    {
     "name": "stdout",
     "output_type": "stream",
     "text": [
      "RMSE over 100 runs: 0.8100\n"
     ]
    }
   ],
   "source": [
    "n = 100\n",
    "# run the simulation, with the new R_stack consisting of the new sensors R2 and R3\n",
    "error = RMSE(n, steps, x_init, x_cov, Q, R2, F, measurement_model_linear, update_linear, H)\n",
    "print(\"RMSE over {} runs: {:.4f}\".format(n, error))"
   ]
  },
  {
   "cell_type": "code",
   "execution_count": 34,
   "metadata": {
    "ExecuteTime": {
     "end_time": "2024-06-15T14:02:15.188626900Z",
     "start_time": "2024-06-15T14:02:15.124922200Z"
    }
   },
   "outputs": [
    {
     "ename": "ValueError",
     "evalue": "mean and cov must have same length",
     "output_type": "error",
     "traceback": [
      "\u001B[1;31m---------------------------------------------------------------------------\u001B[0m",
      "\u001B[1;31mValueError\u001B[0m                                Traceback (most recent call last)",
      "Cell \u001B[1;32mIn[34], line 3\u001B[0m\n\u001B[0;32m      1\u001B[0m n \u001B[38;5;241m=\u001B[39m \u001B[38;5;241m100\u001B[39m\n\u001B[0;32m      2\u001B[0m \u001B[38;5;66;03m# run the simulation, with the new R_stack consisting of the new sensors R2 and R3\u001B[39;00m\n\u001B[1;32m----> 3\u001B[0m error \u001B[38;5;241m=\u001B[39m \u001B[43mRMSE\u001B[49m\u001B[43m(\u001B[49m\u001B[43mn\u001B[49m\u001B[43m,\u001B[49m\u001B[43m \u001B[49m\u001B[43msteps\u001B[49m\u001B[43m,\u001B[49m\u001B[43m \u001B[49m\u001B[43mx_init\u001B[49m\u001B[43m,\u001B[49m\u001B[43m \u001B[49m\u001B[43mx_cov\u001B[49m\u001B[43m,\u001B[49m\u001B[43m \u001B[49m\u001B[43mQ\u001B[49m\u001B[43m,\u001B[49m\u001B[43m \u001B[49m\u001B[43mR_stack\u001B[49m\u001B[43m,\u001B[49m\u001B[43m \u001B[49m\u001B[43mF\u001B[49m\u001B[43m,\u001B[49m\u001B[43m \u001B[49m\u001B[43mmeasurement_model_linear\u001B[49m\u001B[43m,\u001B[49m\u001B[43m \u001B[49m\u001B[43mupdate_linear\u001B[49m\u001B[43m,\u001B[49m\u001B[43m \u001B[49m\u001B[43mH_stack\u001B[49m\u001B[43m)\u001B[49m\n\u001B[0;32m      4\u001B[0m \u001B[38;5;28mprint\u001B[39m(\u001B[38;5;124m\"\u001B[39m\u001B[38;5;124mRMSE over \u001B[39m\u001B[38;5;132;01m{}\u001B[39;00m\u001B[38;5;124m runs: \u001B[39m\u001B[38;5;132;01m{:.4f}\u001B[39;00m\u001B[38;5;124m\"\u001B[39m\u001B[38;5;241m.\u001B[39mformat(n, error))\n",
      "Cell \u001B[1;32mIn[24], line 24\u001B[0m, in \u001B[0;36mRMSE\u001B[1;34m(n, steps, x_init, x_cov, Q, R, F, measurement, update, H)\u001B[0m\n\u001B[0;32m     22\u001B[0m error \u001B[38;5;241m=\u001B[39m \u001B[38;5;241m0\u001B[39m\n\u001B[0;32m     23\u001B[0m \u001B[38;5;28;01mfor\u001B[39;00m i \u001B[38;5;129;01min\u001B[39;00m \u001B[38;5;28mrange\u001B[39m(n):\n\u001B[1;32m---> 24\u001B[0m     gt, ms \u001B[38;5;241m=\u001B[39m \u001B[43msimulation\u001B[49m\u001B[43m(\u001B[49m\u001B[43mx_init\u001B[49m\u001B[43m,\u001B[49m\u001B[43m \u001B[49m\u001B[43mx_cov\u001B[49m\u001B[43m,\u001B[49m\u001B[43m \u001B[49m\u001B[43mQ\u001B[49m\u001B[43m,\u001B[49m\u001B[43m \u001B[49m\u001B[43mR\u001B[49m\u001B[43m,\u001B[49m\u001B[43m \u001B[49m\u001B[43mF\u001B[49m\u001B[43m,\u001B[49m\u001B[43m \u001B[49m\u001B[43msteps\u001B[49m\u001B[43m,\u001B[49m\u001B[43m \u001B[49m\u001B[43mmeasurement\u001B[49m\u001B[43m,\u001B[49m\u001B[43m \u001B[49m\u001B[43mH\u001B[49m\u001B[43m)\u001B[49m\n\u001B[0;32m     25\u001B[0m     track \u001B[38;5;241m=\u001B[39m kalman_filter(x_init, x_cov, ms, Q, R, F, update, H)\n\u001B[0;32m     26\u001B[0m     error \u001B[38;5;241m+\u001B[39m\u001B[38;5;241m=\u001B[39m norm(gt[\u001B[38;5;241m-\u001B[39m\u001B[38;5;241m1\u001B[39m] \u001B[38;5;241m-\u001B[39m track[\u001B[38;5;241m-\u001B[39m\u001B[38;5;241m1\u001B[39m])\n",
      "Cell \u001B[1;32mIn[13], line 24\u001B[0m, in \u001B[0;36msimulation\u001B[1;34m(x_init, x_init_cov, Q, R, F, steps, measurement_model, H)\u001B[0m\n\u001B[0;32m     22\u001B[0m     \u001B[38;5;28;01melse\u001B[39;00m:\n\u001B[0;32m     23\u001B[0m         track[i, :] \u001B[38;5;241m=\u001B[39m motion_model(track[i\u001B[38;5;241m-\u001B[39m\u001B[38;5;241m1\u001B[39m, :], Q, F)\n\u001B[1;32m---> 24\u001B[0m         ms[i\u001B[38;5;241m-\u001B[39m\u001B[38;5;241m1\u001B[39m, :] \u001B[38;5;241m=\u001B[39m \u001B[43mmeasurement_model\u001B[49m\u001B[43m(\u001B[49m\u001B[43mtrack\u001B[49m\u001B[43m[\u001B[49m\u001B[43mi\u001B[49m\u001B[43m,\u001B[49m\u001B[43m \u001B[49m\u001B[43m:\u001B[49m\u001B[43m]\u001B[49m\u001B[43m,\u001B[49m\u001B[43m \u001B[49m\u001B[43mR\u001B[49m\u001B[43m,\u001B[49m\u001B[43m \u001B[49m\u001B[43mH\u001B[49m\u001B[43m)\u001B[49m\n\u001B[0;32m     26\u001B[0m \u001B[38;5;66;03m# === END OF YOUR CODE ===\u001B[39;00m\n\u001B[0;32m     27\u001B[0m \n\u001B[0;32m     28\u001B[0m \u001B[38;5;66;03m# track should have \"steps\" many entries of states of correct dimension\u001B[39;00m\n\u001B[0;32m     29\u001B[0m \u001B[38;5;28;01massert\u001B[39;00m track\u001B[38;5;241m.\u001B[39mshape \u001B[38;5;241m==\u001B[39m (steps, x_dim)  \n",
      "Cell \u001B[1;32mIn[9], line 12\u001B[0m, in \u001B[0;36mmeasurement_model_linear\u001B[1;34m(x, R, H)\u001B[0m\n\u001B[0;32m      9\u001B[0m R \u001B[38;5;241m=\u001B[39m np\u001B[38;5;241m.\u001B[39marray(R)\n\u001B[0;32m     11\u001B[0m \u001B[38;5;66;03m# === YOUR CODE HERE ===\u001B[39;00m\n\u001B[1;32m---> 12\u001B[0m v \u001B[38;5;241m=\u001B[39m \u001B[43mnp\u001B[49m\u001B[38;5;241;43m.\u001B[39;49m\u001B[43mrandom\u001B[49m\u001B[38;5;241;43m.\u001B[39;49m\u001B[43mmultivariate_normal\u001B[49m\u001B[43m(\u001B[49m\u001B[43m[\u001B[49m\u001B[38;5;241;43m0\u001B[39;49m\u001B[43m,\u001B[49m\u001B[43m \u001B[49m\u001B[38;5;241;43m0\u001B[39;49m\u001B[43m]\u001B[49m\u001B[43m,\u001B[49m\u001B[43m \u001B[49m\u001B[43mR\u001B[49m\u001B[43m)\u001B[49m\n\u001B[0;32m     13\u001B[0m y \u001B[38;5;241m=\u001B[39m H \u001B[38;5;241m@\u001B[39m x \u001B[38;5;241m+\u001B[39m v\n\u001B[0;32m     15\u001B[0m \u001B[38;5;66;03m# === END OF YOUR CODE ===\u001B[39;00m\n",
      "File \u001B[1;32mmtrand.pyx:4193\u001B[0m, in \u001B[0;36mnumpy.random.mtrand.RandomState.multivariate_normal\u001B[1;34m()\u001B[0m\n",
      "\u001B[1;31mValueError\u001B[0m: mean and cov must have same length"
     ]
    }
   ],
   "source": [
    "n = 100\n",
    "# run the simulation, with the new R_stack consisting of the new sensors R2 and R3\n",
    "error = RMSE(n, steps, x_init, x_cov, Q, R_stack, F, measurement_model_linear, update_linear, H_stack)\n",
    "print(\"RMSE over {} runs: {:.4f}\".format(n, error))"
   ]
  },
  {
   "cell_type": "markdown",
   "metadata": {},
   "source": [
    "---\n",
    "## Bonus"
   ]
  },
  {
   "cell_type": "markdown",
   "metadata": {
    "tags": []
   },
   "source": [
    "---\n",
    "### B.a)\n",
    "This time, instead of measuring the position directly, we measure the distance to a landmark $P_i$. Formulate the measurement equation and write a function implementing it. We do not provide a measurement matrix H this time, but instead the landmark P.\n",
    "\n",
    "For now, we will assume only a single landmark is used. In that case, the measurement noise will be a 1x1 matrix."
   ]
  },
  {
   "cell_type": "markdown",
   "metadata": {},
   "source": [
    "=== YOUR ANSWER HERE ===\n",
    "\n",
    "$$\n",
    "h_i(\\textbf{x})=\\sqrt{(x_1-P_{i,1})^2+(x_2-P_{i,2})^2}\n",
    "$$"
   ]
  },
  {
   "cell_type": "code",
   "execution_count": null,
   "metadata": {
    "tags": [],
    "ExecuteTime": {
     "start_time": "2024-06-15T13:34:19.589185500Z"
    }
   },
   "outputs": [],
   "source": [
    "def measurement_model_nonlinear_single(x, R, P):\n",
    "    \"\"\"\n",
    "    Implements the measurement model for a single landmark.\n",
    "    \n",
    "    :param x: Robot location\n",
    "    :param R: measurement Noise matrix. If only one landmark exists, will be of shape (1,1)\n",
    "    :param P: landmark locations\n",
    "    :return m: The measurement\n",
    "    \"\"\"\n",
    "    \n",
    "    assert R.shape == (1,1)\n",
    "    \n",
    "    # === YOUR CODE HERE ===\n",
    "    \n",
    "\n",
    "    \n",
    "    # === END OF YOUR CODE ===\n",
    "    \n",
    "    return m"
   ]
  },
  {
   "cell_type": "markdown",
   "metadata": {},
   "source": [
    "---\n",
    "### B.b)\n",
    "To use the measurement in the Kalman filter, we utilize the EKF formulas. Calculate the Jacobian of the measurement function from a) and implement the EKF measurement update.\n",
    "\n",
    "Again, we assume that for now only one landmark exists, and $\\textbf{R}$ will be a 1x1 matrix. "
   ]
  },
  {
   "cell_type": "markdown",
   "metadata": {},
   "source": [
    "=== YOUR ANSWER HERE ===\n",
    "\n",
    "$$\n",
    "\\textbf{H}_i=\\begin{bmatrix}\\frac{x_1-P_{i,1}}{\\sqrt{(x_1-P_{i,1})^2+(x_2-P_{i,2})^2}} & \\frac{x_2-P_{i,2}}{\\sqrt{(x_1-P_{i,1})^2+(x_2-P_{i,2})^2}} & 0 & 0\\end{bmatrix}\n",
    "$$"
   ]
  },
  {
   "cell_type": "code",
   "execution_count": null,
   "metadata": {
    "tags": [],
    "ExecuteTime": {
     "start_time": "2024-06-15T13:34:19.591180300Z"
    }
   },
   "outputs": [],
   "source": [
    "def update_nonlinear_single(x, x_cov, m, R, P):\n",
    "    \"\"\"\n",
    "    Measurement update of the EKF for the case that there is one landmark.\n",
    "    \n",
    "    :param x: robot state\n",
    "    :param x_cov: robot state covariance\n",
    "    :param m: measurement\n",
    "    :param R: measurement noise matrix\n",
    "    :param P: landmark locations\n",
    "    :return: (x_new, x_cov_new) the updated robot state and state covariance\n",
    "    \"\"\"\n",
    "    # ensure everything is numpy\n",
    "    x = np.array(x)\n",
    "    x_cov = np.array(x_cov)\n",
    "    m = np.array(m)\n",
    "    R = np.array(R)\n",
    "    P = np.array(P)\n",
    "    \n",
    "    assert R.shape == (1,1)\n",
    "    # === YOUR CODE HERE ===\n",
    "    \n",
    "    \n",
    "\n",
    "    # === END OF YOUR CODE ===\n",
    "    \n",
    "    return x_new, x_cov_new"
   ]
  },
  {
   "cell_type": "markdown",
   "metadata": {
    "tags": []
   },
   "source": [
    "---\n",
    "The simulation will now be run using the previous functions and the results will be visualized. We assume the landmark to be $P_1=\\begin{bmatrix}0, -5\\end{bmatrix}^{\\text{T}}$ and the measurement noise is $\\mathbf{R}=\\begin{bmatrix}0.1\\end{bmatrix}$."
   ]
  },
  {
   "cell_type": "code",
   "execution_count": null,
   "metadata": {
    "tags": [],
    "ExecuteTime": {
     "start_time": "2024-06-15T13:34:19.593268600Z"
    }
   },
   "outputs": [],
   "source": [
    "# init variables and run simulation:\n",
    "\n",
    "t = 1\n",
    "steps = 10\n",
    "n = 100\n",
    "\n",
    "x_init = np.array([0, 0, 0.5, 0.5])\n",
    "x_cov = np.array([\n",
    "    [0.1, 0, 0, 0],\n",
    "    [0, 0.1, 0, 0],\n",
    "    [0, 0, 0.1, 0],\n",
    "    [0, 0, 0, 0.1]\n",
    "])\n",
    "\n",
    "Q = np.array([\n",
    "    [0.001, 0, 0, 0],\n",
    "    [0, 0.001, 0, 0],\n",
    "    [0, 0, 0.02, 0],\n",
    "    [0, 0, 0, 0.02]\n",
    "])\n",
    "\n",
    "R = np.array([[0.1]])\n",
    "\n",
    "F = np.array([\n",
    "    [1, 0, t, 0],\n",
    "    [0, 1, 0, t],\n",
    "    [0, 0, 1, 0],\n",
    "    [0, 0, 0, 1]\n",
    "])\n",
    "\n",
    "P = np.array([[0, -5]])\n",
    "# run simulation\n",
    "gt, ms = simulation(x_init, x_cov, Q, R, F, steps, measurement_model_nonlinear_single, P)\n",
    "track = kalman_filter(x_init, x_cov, ms, Q, R, F, update_nonlinear_single, P)\n",
    "\n",
    "# Visualize the results of the simulation:\n",
    "fig, ax = plt.subplots(figsize=(10, 10))\n",
    "ax.plot(gt[:, 0], gt[:, 1], c=\"b\", label=\"Ground Truth\", markersize=7, marker=\"o\")\n",
    "ax.plot(track[:, 0], track[:, 1], c=\"g\", label=\"EKF Track\", markersize=7, marker=\"o\")\n",
    "ax.scatter(P[:, 0], P[:, 1], c=\"r\", label=\"Landmark location\", marker=\"x\")\n",
    "\n",
    "for i, lm in enumerate(ms.T):\n",
    "    # get the measurement for the first landmark\n",
    "    for y in lm:\n",
    "        c = plt.Circle((P[i, 0], P[i, 1]), y, color='r', fill=False)\n",
    "        ax.add_artist(c)\n",
    "\n",
    "ax.axis(\"equal\")\n",
    "plt.title(\"Track and measurements\")\n",
    "handles, labels = ax.get_legend_handles_labels()\n",
    "handles.append(mlines.Line2D([], [], color='red'))\n",
    "labels.append(\"Measurements\")\n",
    "plt.legend(handles, labels, bbox_to_anchor=(1.05, 1), loc='upper left')\n",
    "plt.show()"
   ]
  },
  {
   "cell_type": "markdown",
   "metadata": {
    "tags": []
   },
   "source": [
    "---\n",
    "### B.c)\n",
    "To improve your estimate, use a second landmark $P_2=\\begin{bmatrix}-5 & 0\\end{bmatrix}^T$. Formulate a stacked measurement equation and calculate the corresponding Jacobian.\n",
    "\n",
    "You will need to implement new versions of your `measurement_model` and your `update` functions. \n",
    "\n",
    "Hints:\n",
    "- since we are now dealing with a multi-dimensional scenario, you should consider using `np.random.multivariate_normal` instead of `np.random.normal`.\n",
    "- make sure you calculate the distances between x and P across the correct axis, since P is now multi-dimensional too."
   ]
  },
  {
   "cell_type": "code",
   "execution_count": null,
   "metadata": {
    "tags": [],
    "ExecuteTime": {
     "start_time": "2024-06-15T13:34:19.595189800Z"
    }
   },
   "outputs": [],
   "source": [
    "def measurement_model_dual(x, R, P):\n",
    "    \"\"\"\n",
    "    Implements the measurement model for the two landmark case.\n",
    "    \n",
    "    :param x: Robot location\n",
    "    :param R: measurement Noise matrix. If two landmarks exists, will be of shape (2,2)\n",
    "    :param P: landmark locations\n",
    "    :return m: The measurement\n",
    "    \"\"\"\n",
    "    assert R.shape == (2,2)\n",
    "    \n",
    "    # === YOUR CODE HERE ===\n",
    "    \n",
    "    # need to make sure we take the correct axis for the norm!\n",
    "    \n",
    "    \n",
    "    # === END OF YOUR CODE ===\n",
    "    \n",
    "    return m"
   ]
  },
  {
   "cell_type": "code",
   "execution_count": null,
   "metadata": {
    "tags": [],
    "ExecuteTime": {
     "start_time": "2024-06-15T13:34:19.598190700Z"
    }
   },
   "outputs": [],
   "source": [
    "def update_dual(x, x_cov, m, R, P):\n",
    "    \"\"\"\n",
    "    Measurement update of the EKF for the case that there are two landmarks.\n",
    "    \n",
    "    :param x: robot state\n",
    "    :param x_cov: robot state covariance\n",
    "    :param m: measurement\n",
    "    :param R: measurement noise matrix\n",
    "    :param P: landmark locations\n",
    "    :return: (x_new, x_cov_new) the updated robot state and state covariance\n",
    "    \"\"\"\n",
    "    # ensure everything is numpy\n",
    "    x = np.array(x)\n",
    "    x_cov = np.array(x_cov)\n",
    "    m = np.array(m)\n",
    "    R = np.array(R)\n",
    "    P = np.array(P)\n",
    "    \n",
    "    assert R.shape == (2,2)\n",
    "    \n",
    "    # === YOUR CODE HERE ===\n",
    "    \n",
    "    \n",
    "\n",
    "    # === END OF YOUR CODE ===\n",
    "    \n",
    "    return x_new, x_cov_new"
   ]
  },
  {
   "cell_type": "code",
   "execution_count": null,
   "metadata": {
    "tags": [],
    "ExecuteTime": {
     "start_time": "2024-06-15T13:34:19.600195400Z"
    }
   },
   "outputs": [],
   "source": [
    "# init variables and run simulation:\n",
    "\n",
    "t = 1\n",
    "steps = 10\n",
    "n = 100\n",
    "\n",
    "x_init = np.array([0, 0, 0.5, 0.5])\n",
    "x_cov = np.array([\n",
    "    [0.1, 0, 0, 0],\n",
    "    [0, 0.1, 0, 0],\n",
    "    [0, 0, 0.1, 0],\n",
    "    [0, 0, 0, 0.1]\n",
    "])\n",
    "\n",
    "Q = np.array([\n",
    "    [0.001, 0, 0, 0],\n",
    "    [0, 0.001, 0, 0],\n",
    "    [0, 0, 0.02, 0],\n",
    "    [0, 0, 0, 0.02]\n",
    "])\n",
    "\n",
    "R = np.array([\n",
    "    [0.1, 0],\n",
    "    [0, 0.1]\n",
    "])\n",
    "\n",
    "F = np.array([\n",
    "    [1, 0, t, 0],\n",
    "    [0, 1, 0, t],\n",
    "    [0, 0, 1, 0],\n",
    "    [0, 0, 0, 1]\n",
    "])\n",
    "\n",
    "P = np.array([\n",
    "    [0, -5],\n",
    "    [-5, 0]\n",
    "])\n",
    "\n",
    "# run simulation\n",
    "gt, ms = simulation(x_init, x_cov, Q, R, F, steps, measurement_model_dual, P)\n",
    "track = kalman_filter(x_init, x_cov, ms, Q, R, F, update_dual, P)\n",
    "\n",
    "# Visualize the results of the simulation:\n",
    "fig, ax = plt.subplots(figsize=(10, 10))\n",
    "ax.plot(gt[:, 0], gt[:, 1], c=\"b\", label=\"Ground Truth\", markersize=7, marker=\"o\")\n",
    "ax.plot(track[:, 0], track[:, 1], c=\"g\", label=\"EKF Track\", markersize=7, marker=\"o\")\n",
    "ax.scatter(P[0, 0], P[0, 1], c=\"r\", label=\"Landmark location\", marker=\"x\")\n",
    "ax.scatter(P[1, 0], P[1, 1], c=\"orange\", label=\"Landmark location\", marker=\"x\")\n",
    "\n",
    "lm_c = [\"red\", \"orange\"]\n",
    "for i, lm in enumerate(ms.T):\n",
    "    # get the measurement for the first landmark\n",
    "    for y in lm:\n",
    "        c = plt.Circle((P[i, 0], P[i, 1]), y, color=lm_c[i], fill=False)\n",
    "        ax.add_artist(c)\n",
    "\n",
    "ax.axis(\"equal\")\n",
    "plt.title(\"Track and measurements\")\n",
    "handles, labels = ax.get_legend_handles_labels()\n",
    "handles.append(mlines.Line2D([], [], color='red'))\n",
    "labels.append(\"Measurements (Sensor 1)\")\n",
    "handles.append(mlines.Line2D([], [], color='orange'))\n",
    "labels.append(\"Measurements (Sensor 2)\")\n",
    "plt.legend(handles, labels, bbox_to_anchor=(1.05, 1), loc='upper left')\n",
    "plt.show()"
   ]
  },
  {
   "cell_type": "code",
   "execution_count": null,
   "metadata": {
    "ExecuteTime": {
     "start_time": "2024-06-15T13:34:19.602199900Z"
    }
   },
   "outputs": [],
   "source": []
  }
 ],
 "metadata": {
  "kernelspec": {
   "display_name": "Python 3 (ipykernel)",
   "language": "python",
   "name": "python3"
  },
  "language_info": {
   "codemirror_mode": {
    "name": "ipython",
    "version": 3
   },
   "file_extension": ".py",
   "mimetype": "text/x-python",
   "name": "python",
   "nbconvert_exporter": "python",
   "pygments_lexer": "ipython3",
   "version": "3.11.7"
  }
 },
 "nbformat": 4,
 "nbformat_minor": 4
}
