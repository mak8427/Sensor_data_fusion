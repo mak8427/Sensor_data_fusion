{
 "cells": [
  {
   "cell_type": "markdown",
   "metadata": {},
   "source": [
    "# Sensor Data Fusion\n",
    "Lecturer: Prof. Baum \\\n",
    "Tutor: Dr. Kolja Thormann\\\n",
    "Semester: Summer 2024\n",
    "## Homework 9\n",
    "\n",
    "Assume again a robot in 2D-space at position $\\begin{bmatrix}x_1 & x_2\\end{bmatrix}^T$ moving with velocity $\\dot{x}_1$ in $x_1$ direction and $\\dot{x}_2$ in $x_2$ direction. Its state is defined as $\\textbf{x}=\\begin{bmatrix}x_1 & x_2 & \\dot{x}_1 & \\dot{x}_2\\end{bmatrix}^T$. Assume the prior distribution has mean $\\hat{\\textbf{x}}_0=\\begin{bmatrix}0 & 0 & 5 & 0\\end{bmatrix}^T$ and covariance $\\textbf{C}_{\\textbf{x},0}=\\text{diag}(\\begin{bmatrix}0.5 & 0.5 & 0.1 & 0.1\\end{bmatrix})$."
   ]
  },
  {
   "cell_type": "markdown",
   "metadata": {},
   "source": [
    "---\n",
    "The following tasks will have missing sections marked that you should fill out. \n",
    "\n",
    "Missing code parts are marked by\n",
    "```\n",
    "# ... code code code\n",
    "=== YOUR CODE HERE ===\n",
    "\n",
    "=== END OF YOUR CODE ===\n",
    "# ... code code code\n",
    "```\n",
    "If you are asked to implement a function, make sure to check what variable will be returned by the function and to fill it accordingly. Do not change code outside of the indicated sections.\n",
    "\n",
    "Furthermore, some questions require theoretical answers instead of python code.\n",
    "\n",
    "Such questions will have a field marked like this: \n",
    "\n",
    "=== YOUR ANSWER HERE === "
   ]
  },
  {
   "cell_type": "code",
   "execution_count": null,
   "metadata": {},
   "outputs": [],
   "source": [
    "# import statements\n",
    "import numpy as np\n",
    "import matplotlib.pyplot as plt\n",
    "from matplotlib.patches import Ellipse"
   ]
  },
  {
   "cell_type": "code",
   "execution_count": null,
   "metadata": {},
   "outputs": [],
   "source": [
    "# prior\n",
    "prior_mean = np.array([0, 0, 5, 0])  # inital mean for x\n",
    "prior_cov = np.array([\n",
    "    [0.5, 0, 0, 0],\n",
    "    [0, 0.5, 0, 0],\n",
    "    [0, 0, 0.1, 0],\n",
    "    [0, 0, 0, 0.1]\n",
    "])"
   ]
  },
  {
   "cell_type": "markdown",
   "metadata": {},
   "source": [
    "---\n",
    "### a)\n",
    "\n",
    "Assume the accelerations in $x_{1/2}$ direction $a_{1/2}$ are modeled by zero mean white noise, i.e., $a_{1/2}\\sim\\mathcal{N}(0, \\sigma_a^2)$. Both $a_1$ and $a_2$ are independent, have the same variance $\\sigma_a^2$, and are constant over an entire time step with length $T$. Write a function which moves the state $T$ seconds into the future. Then, write a simulation which\n",
    "- samples the true state from the prior,\n",
    "- moves the state $T=2$ second into the future, drawing and adding noise with variance $\\sigma_a^2=0.25$ appropriately, and\n",
    "- repeats this process $N=200$ times and visualizes the positions after $T$ seconds for each run."
   ]
  },
  {
   "cell_type": "code",
   "execution_count": null,
   "metadata": {},
   "outputs": [],
   "source": [
    "# simulation parameters\n",
    "noise_variance = 0.25\n",
    "T = 2\n",
    "N = 200"
   ]
  },
  {
   "cell_type": "code",
   "execution_count": null,
   "metadata": {},
   "outputs": [],
   "source": [
    "def sample_prior(mean, cov):\n",
    "    \"\"\"\n",
    "    Function  to sample a true position from the prior distribution.\n",
    "    :param mean: the 4D mean of the prior distribution\n",
    "    :param cov:  the 4x4 covariance of the prior distribution\n",
    "    :return:      an array of length len(mean)\n",
    "    \"\"\"\n",
    "    # === YOUR CODE HERE ===\n",
    "\n",
    "    sample = np.random.multivariate_normal(mean, cov)\n",
    "    # === END OF YOUR CODE ===\n",
    "\n",
    "    return sample\n",
    "\n",
    "\n",
    "def motion_model(state, noise_variance, T):\n",
    "    \"\"\"\n",
    "    Function to move the state ts seconds into the future.\n",
    "    :param state:          the 4D state consisting of 2D position and 2D velocity\n",
    "    :param noise_variance: the scalar noise variance of the acceleration in both dimensions\n",
    "    :param T:              the length of the time step\n",
    "    :return:               the state after the motion\n",
    "    \"\"\"\n",
    "    # === YOUR CODE HERE ===\n",
    "\n",
    "    new_state = state + np.array([state[2], state[3], np.random.normal(0, noise_variance), np.random.normal(0, noise_variance)]) * T\n",
    "\n",
    "    # === END OF YOUR CODE ===\n",
    "\n",
    "    return new_state"
   ]
  },
  {
   "cell_type": "code",
   "execution_count": null,
   "metadata": {},
   "outputs": [],
   "source": [
    "def simulate_motion(prior_mean, prior_cov, noise_variance, T, N):\n",
    "    \"\"\"\n",
    "    Simulates a motion for time difference T of a state drawn from a prior distribution. Repeats the process N times and returns the results.\n",
    "    :param prior_mean:     the 4D mean of the prior distribution\n",
    "    :param prior_cov:      the 4x4 covariance of the prior distribution\n",
    "    :param noise_variance: the scalar noise variance of the acceleration in both dimensions\n",
    "    :param T:              the length of the time step\n",
    "    :param N:              number of simulation runs\n",
    "    :return:               a nX4 array of the states afters the motion of each simulation run\n",
    "    \"\"\"\n",
    "    new_states = np.zeros((N, 4))\n",
    "\n",
    "    # === YOUR CODE HERE ===\n",
    "    new_states = np.array([motion_model(sample_prior(prior_mean, prior_cov), noise_variance, T) for _ in range(N)])\n",
    "\n",
    "\n",
    "    # === END OF YOUR CODE ===\n",
    "\n",
    "    return new_states\n",
    "\n",
    "\n",
    "def visualize_covariance(C, m, **kwargs):\n",
    "    \"\"\"\n",
    "    Adds a visualization of a covariance matrix as an ellipse to the current matplotlib plot.\n",
    "    :param C: Covariance matrix\n",
    "    :param m: Mean\n",
    "    :param color: color to draw in (for matplotlib)\n",
    "    \"\"\"\n",
    "    # ensure everything is numpy\n",
    "    C = np.array(C)\n",
    "    m = np.array(m)\n",
    "    \n",
    "    eig_vals, eig_vecs = np.linalg.eig(C)\n",
    "    psi = np.arctan2(eig_vecs[1, 0], eig_vecs[0, 0])\n",
    "    ell = Ellipse(xy=m, width=2.0*np.sqrt(eig_vals[0]), height=2.0*np.sqrt(eig_vals[1]), angle=np.rad2deg(psi), fill=False, **kwargs)\n",
    "    plt.gca().add_artist(ell)\n",
    "\n",
    "\n",
    "def plot_state_positions(states, mean=None, cov=None):\n",
    "    \"\"\"\n",
    "    Plots the distribution of states' positions. Optionally, plots the Gaussian state distribution described by mean and cov.\n",
    "    :param states: Nx4 array consisting of N state, each of which has its position as the first 2 dimensions\n",
    "    :param mean:   (optional) mean of a Gaussian representing a distribution of possitble states\n",
    "    :param cov:    (optional) covariance of a Gaussian representing a distribution of possible states\n",
    "    \"\"\"\n",
    "    plt.scatter(states[:, 0], states[:, 1], s=1, c='black')\n",
    "\n",
    "    state_mean = np.mean(states, axis=0)\n",
    "    scatter_matrix = np.einsum('xn, xm -> nm', state_mean[None, :] - states, state_mean[None, :] - states) / (len(states)-1)\n",
    "    visualize_covariance(scatter_matrix, state_mean, color='red')\n",
    "\n",
    "    if (mean is not None) and (cov is not None):\n",
    "        visualize_covariance(cov[:2, :2], mean[:2], color='blue')\n",
    "\n",
    "    plt.axis([5, 15, -5, 5])\n",
    "    plt.gca().set_aspect(\"equal\")\n",
    "    plt.show()\n",
    "\n",
    "\n",
    "states = simulate_motion(prior_mean, prior_cov, noise_variance, T, N)\n",
    "plot_state_positions(states)"
   ]
  },
  {
   "cell_type": "markdown",
   "metadata": {},
   "source": [
    "---\n",
    "### b)\n",
    "\n",
    "Now implement the Kalman filter prediciton formulas for the corresponding motion model. Compare the resulting Gaussian distribution of the state position with the distribution of the positions from the simulation."
   ]
  },
  {
   "cell_type": "code",
   "execution_count": null,
   "metadata": {},
   "outputs": [],
   "source": [
    "def kalman_prediction(mean, cov, noise_variance, T):\n",
    "    \"\"\"\n",
    "    Predict the state distribution for a time difference of T into the future, considering acceleration noise.\n",
    "    :param mean:           the 4D mean of the state distribution\n",
    "    :param cov:            the 4x4 covariance of the state distribution\n",
    "    :param noise_variance: the scalar noise variance of the acceleration in both dimensions\n",
    "    :param T:              the length of the time step\n",
    "    :param N:              number of simulation runs\n",
    "    :return:               the 4D mean and 4x4 covariance of the predicted state distribution after the motion\n",
    "    \"\"\"\n",
    "    # === YOUR CODE HERE ===\n",
    "\n",
    "    new_mean = ...\n",
    "    new_cov = ...\n",
    "    \n",
    "    # === END OF YOUR CODE ===\n",
    "\n",
    "    return new_mean, new_cov\n",
    "\n",
    "\n",
    "new_mean, new_cov = kalman_prediction(prior_mean, prior_cov, noise_variance, T)\n",
    "\n",
    "states = simulate_motion(prior_mean, prior_cov, noise_variance, T, N)\n",
    "plot_state_positions(states, new_mean, new_cov)"
   ]
  },
  {
   "cell_type": "code",
   "execution_count": null,
   "metadata": {},
   "outputs": [],
   "source": []
  }
 ],
 "metadata": {
  "kernelspec": {
   "display_name": "Python 3 (ipykernel)",
   "language": "python",
   "name": "python3"
  },
  "language_info": {
   "codemirror_mode": {
    "name": "ipython",
    "version": 3
   },
   "file_extension": ".py",
   "mimetype": "text/x-python",
   "name": "python",
   "nbconvert_exporter": "python",
   "pygments_lexer": "ipython3",
   "version": "3.11.7"
  }
 },
 "nbformat": 4,
 "nbformat_minor": 4
}
